{
  "nbformat": 4,
  "nbformat_minor": 0,
  "metadata": {
    "colab": {
      "provenance": [],
      "authorship_tag": "ABX9TyNccbuggrfpeZWX05YLv6mW",
      "include_colab_link": true
    },
    "kernelspec": {
      "name": "python3",
      "display_name": "Python 3"
    },
    "language_info": {
      "name": "python"
    }
  },
  "cells": [
    {
      "cell_type": "markdown",
      "metadata": {
        "id": "view-in-github",
        "colab_type": "text"
      },
      "source": [
        "<a href=\"https://colab.research.google.com/github/EricStimpsonWSU/ModernLab/blob/main/ChaoticPendulum/notebooks/LowDampPoincare.ipynb\" target=\"_parent\"><img src=\"https://colab.research.google.com/assets/colab-badge.svg\" alt=\"Open In Colab\"/></a>"
      ]
    },
    {
      "cell_type": "code",
      "execution_count": 2,
      "metadata": {
        "id": "G8tX0kSsVIR2"
      },
      "outputs": [],
      "source": [
        "#imports\n",
        "import pandas as pd\n",
        "import numpy as np"
      ]
    },
    {
      "cell_type": "code",
      "source": [
        "url = \"https://raw.githubusercontent.com/EricStimpsonWSU/ModernLab/main/ChaoticPendulum/data/chaotic_motion_lowdamp.csv\"\n",
        "raw = pd.read_csv(url)"
      ],
      "metadata": {
        "id": "qe8NjA2OeJUo"
      },
      "execution_count": 3,
      "outputs": []
    },
    {
      "cell_type": "code",
      "source": [
        "raw[raw[\"State Run #10\"] == 1.0]"
      ],
      "metadata": {
        "colab": {
          "base_uri": "https://localhost:8080/",
          "height": 423
        },
        "id": "T8TwUXxXLjxe",
        "outputId": "201c16b1-83b3-4a3f-e41c-6af536c0c9c7"
      },
      "execution_count": 5,
      "outputs": [
        {
          "output_type": "execute_result",
          "data": {
            "text/plain": [
              "        Date and Time Run #10  Time (s) Run #10  \\\n",
              "16     01/27/2023 02:31:31 pm             0.793   \n",
              "45     01/27/2023 02:31:33 pm             2.101   \n",
              "73     01/27/2023 02:31:34 pm             3.406   \n",
              "101    01/27/2023 02:31:35 pm             4.711   \n",
              "129    01/27/2023 02:31:37 pm             6.008   \n",
              "...                       ...               ...   \n",
              "41178  01/27/2023 03:03:21 pm          1910.761   \n",
              "41205  01/27/2023 03:03:23 pm          1912.037   \n",
              "41233  01/27/2023 03:03:24 pm          1913.301   \n",
              "41260  01/27/2023 03:03:25 pm          1914.566   \n",
              "41287  01/27/2023 03:03:26 pm          1915.847   \n",
              "\n",
              "       Counts/sample (counts/sample) Run #10  Angle (rad) Run #10  \\\n",
              "16                                       NaN                  NaN   \n",
              "45                                       NaN                  NaN   \n",
              "73                                       NaN                  NaN   \n",
              "101                                      NaN                  NaN   \n",
              "129                                      NaN                  NaN   \n",
              "...                                      ...                  ...   \n",
              "41178                                    NaN                  NaN   \n",
              "41205                                    NaN                  NaN   \n",
              "41233                                    NaN                  NaN   \n",
              "41260                                    NaN                  NaN   \n",
              "41287                                    NaN                  NaN   \n",
              "\n",
              "       Angular Velocity (rad/s) Run #10  \\\n",
              "16                                  NaN   \n",
              "45                                  NaN   \n",
              "73                                  NaN   \n",
              "101                                 NaN   \n",
              "129                                 NaN   \n",
              "...                                 ...   \n",
              "41178                               NaN   \n",
              "41205                               NaN   \n",
              "41233                               NaN   \n",
              "41260                               NaN   \n",
              "41287                               NaN   \n",
              "\n",
              "       Angular Acceleration (rad/s²) Run #10  Position (m) Run #10  \\\n",
              "16                                       NaN                   NaN   \n",
              "45                                       NaN                   NaN   \n",
              "73                                       NaN                   NaN   \n",
              "101                                      NaN                   NaN   \n",
              "129                                      NaN                   NaN   \n",
              "...                                      ...                   ...   \n",
              "41178                                    NaN                   NaN   \n",
              "41205                                    NaN                   NaN   \n",
              "41233                                    NaN                   NaN   \n",
              "41260                                    NaN                   NaN   \n",
              "41287                                    NaN                   NaN   \n",
              "\n",
              "       Velocity (m/s) Run #10  Acceleration (m/s²) Run #10  Counts Run #10  \\\n",
              "16                        NaN                          NaN             NaN   \n",
              "45                        NaN                          NaN             NaN   \n",
              "73                        NaN                          NaN             NaN   \n",
              "101                       NaN                          NaN             NaN   \n",
              "129                       NaN                          NaN             NaN   \n",
              "...                       ...                          ...             ...   \n",
              "41178                     NaN                          NaN             NaN   \n",
              "41205                     NaN                          NaN             NaN   \n",
              "41233                     NaN                          NaN             NaN   \n",
              "41260                     NaN                          NaN             NaN   \n",
              "41287                     NaN                          NaN             NaN   \n",
              "\n",
              "       State Run #10  Time in Gate (s) Run #10  Speed (m/s) Run #10  \n",
              "16               1.0                       NaN                  NaN  \n",
              "45               1.0                       NaN                  NaN  \n",
              "73               1.0                       NaN                  NaN  \n",
              "101              1.0                       NaN                  NaN  \n",
              "129              1.0                       NaN                  NaN  \n",
              "...              ...                       ...                  ...  \n",
              "41178            1.0                       NaN                  NaN  \n",
              "41205            1.0                       NaN                  NaN  \n",
              "41233            1.0                       NaN                  NaN  \n",
              "41260            1.0                       NaN                  NaN  \n",
              "41287            1.0                       NaN                  NaN  \n",
              "\n",
              "[1488 rows x 13 columns]"
            ],
            "text/html": [
              "\n",
              "  <div id=\"df-4612f7da-435d-4794-98fa-8ae852c4421b\">\n",
              "    <div class=\"colab-df-container\">\n",
              "      <div>\n",
              "<style scoped>\n",
              "    .dataframe tbody tr th:only-of-type {\n",
              "        vertical-align: middle;\n",
              "    }\n",
              "\n",
              "    .dataframe tbody tr th {\n",
              "        vertical-align: top;\n",
              "    }\n",
              "\n",
              "    .dataframe thead th {\n",
              "        text-align: right;\n",
              "    }\n",
              "</style>\n",
              "<table border=\"1\" class=\"dataframe\">\n",
              "  <thead>\n",
              "    <tr style=\"text-align: right;\">\n",
              "      <th></th>\n",
              "      <th>Date and Time Run #10</th>\n",
              "      <th>Time (s) Run #10</th>\n",
              "      <th>Counts/sample (counts/sample) Run #10</th>\n",
              "      <th>Angle (rad) Run #10</th>\n",
              "      <th>Angular Velocity (rad/s) Run #10</th>\n",
              "      <th>Angular Acceleration (rad/s²) Run #10</th>\n",
              "      <th>Position (m) Run #10</th>\n",
              "      <th>Velocity (m/s) Run #10</th>\n",
              "      <th>Acceleration (m/s²) Run #10</th>\n",
              "      <th>Counts Run #10</th>\n",
              "      <th>State Run #10</th>\n",
              "      <th>Time in Gate (s) Run #10</th>\n",
              "      <th>Speed (m/s) Run #10</th>\n",
              "    </tr>\n",
              "  </thead>\n",
              "  <tbody>\n",
              "    <tr>\n",
              "      <th>16</th>\n",
              "      <td>01/27/2023 02:31:31 pm</td>\n",
              "      <td>0.793</td>\n",
              "      <td>NaN</td>\n",
              "      <td>NaN</td>\n",
              "      <td>NaN</td>\n",
              "      <td>NaN</td>\n",
              "      <td>NaN</td>\n",
              "      <td>NaN</td>\n",
              "      <td>NaN</td>\n",
              "      <td>NaN</td>\n",
              "      <td>1.0</td>\n",
              "      <td>NaN</td>\n",
              "      <td>NaN</td>\n",
              "    </tr>\n",
              "    <tr>\n",
              "      <th>45</th>\n",
              "      <td>01/27/2023 02:31:33 pm</td>\n",
              "      <td>2.101</td>\n",
              "      <td>NaN</td>\n",
              "      <td>NaN</td>\n",
              "      <td>NaN</td>\n",
              "      <td>NaN</td>\n",
              "      <td>NaN</td>\n",
              "      <td>NaN</td>\n",
              "      <td>NaN</td>\n",
              "      <td>NaN</td>\n",
              "      <td>1.0</td>\n",
              "      <td>NaN</td>\n",
              "      <td>NaN</td>\n",
              "    </tr>\n",
              "    <tr>\n",
              "      <th>73</th>\n",
              "      <td>01/27/2023 02:31:34 pm</td>\n",
              "      <td>3.406</td>\n",
              "      <td>NaN</td>\n",
              "      <td>NaN</td>\n",
              "      <td>NaN</td>\n",
              "      <td>NaN</td>\n",
              "      <td>NaN</td>\n",
              "      <td>NaN</td>\n",
              "      <td>NaN</td>\n",
              "      <td>NaN</td>\n",
              "      <td>1.0</td>\n",
              "      <td>NaN</td>\n",
              "      <td>NaN</td>\n",
              "    </tr>\n",
              "    <tr>\n",
              "      <th>101</th>\n",
              "      <td>01/27/2023 02:31:35 pm</td>\n",
              "      <td>4.711</td>\n",
              "      <td>NaN</td>\n",
              "      <td>NaN</td>\n",
              "      <td>NaN</td>\n",
              "      <td>NaN</td>\n",
              "      <td>NaN</td>\n",
              "      <td>NaN</td>\n",
              "      <td>NaN</td>\n",
              "      <td>NaN</td>\n",
              "      <td>1.0</td>\n",
              "      <td>NaN</td>\n",
              "      <td>NaN</td>\n",
              "    </tr>\n",
              "    <tr>\n",
              "      <th>129</th>\n",
              "      <td>01/27/2023 02:31:37 pm</td>\n",
              "      <td>6.008</td>\n",
              "      <td>NaN</td>\n",
              "      <td>NaN</td>\n",
              "      <td>NaN</td>\n",
              "      <td>NaN</td>\n",
              "      <td>NaN</td>\n",
              "      <td>NaN</td>\n",
              "      <td>NaN</td>\n",
              "      <td>NaN</td>\n",
              "      <td>1.0</td>\n",
              "      <td>NaN</td>\n",
              "      <td>NaN</td>\n",
              "    </tr>\n",
              "    <tr>\n",
              "      <th>...</th>\n",
              "      <td>...</td>\n",
              "      <td>...</td>\n",
              "      <td>...</td>\n",
              "      <td>...</td>\n",
              "      <td>...</td>\n",
              "      <td>...</td>\n",
              "      <td>...</td>\n",
              "      <td>...</td>\n",
              "      <td>...</td>\n",
              "      <td>...</td>\n",
              "      <td>...</td>\n",
              "      <td>...</td>\n",
              "      <td>...</td>\n",
              "    </tr>\n",
              "    <tr>\n",
              "      <th>41178</th>\n",
              "      <td>01/27/2023 03:03:21 pm</td>\n",
              "      <td>1910.761</td>\n",
              "      <td>NaN</td>\n",
              "      <td>NaN</td>\n",
              "      <td>NaN</td>\n",
              "      <td>NaN</td>\n",
              "      <td>NaN</td>\n",
              "      <td>NaN</td>\n",
              "      <td>NaN</td>\n",
              "      <td>NaN</td>\n",
              "      <td>1.0</td>\n",
              "      <td>NaN</td>\n",
              "      <td>NaN</td>\n",
              "    </tr>\n",
              "    <tr>\n",
              "      <th>41205</th>\n",
              "      <td>01/27/2023 03:03:23 pm</td>\n",
              "      <td>1912.037</td>\n",
              "      <td>NaN</td>\n",
              "      <td>NaN</td>\n",
              "      <td>NaN</td>\n",
              "      <td>NaN</td>\n",
              "      <td>NaN</td>\n",
              "      <td>NaN</td>\n",
              "      <td>NaN</td>\n",
              "      <td>NaN</td>\n",
              "      <td>1.0</td>\n",
              "      <td>NaN</td>\n",
              "      <td>NaN</td>\n",
              "    </tr>\n",
              "    <tr>\n",
              "      <th>41233</th>\n",
              "      <td>01/27/2023 03:03:24 pm</td>\n",
              "      <td>1913.301</td>\n",
              "      <td>NaN</td>\n",
              "      <td>NaN</td>\n",
              "      <td>NaN</td>\n",
              "      <td>NaN</td>\n",
              "      <td>NaN</td>\n",
              "      <td>NaN</td>\n",
              "      <td>NaN</td>\n",
              "      <td>NaN</td>\n",
              "      <td>1.0</td>\n",
              "      <td>NaN</td>\n",
              "      <td>NaN</td>\n",
              "    </tr>\n",
              "    <tr>\n",
              "      <th>41260</th>\n",
              "      <td>01/27/2023 03:03:25 pm</td>\n",
              "      <td>1914.566</td>\n",
              "      <td>NaN</td>\n",
              "      <td>NaN</td>\n",
              "      <td>NaN</td>\n",
              "      <td>NaN</td>\n",
              "      <td>NaN</td>\n",
              "      <td>NaN</td>\n",
              "      <td>NaN</td>\n",
              "      <td>NaN</td>\n",
              "      <td>1.0</td>\n",
              "      <td>NaN</td>\n",
              "      <td>NaN</td>\n",
              "    </tr>\n",
              "    <tr>\n",
              "      <th>41287</th>\n",
              "      <td>01/27/2023 03:03:26 pm</td>\n",
              "      <td>1915.847</td>\n",
              "      <td>NaN</td>\n",
              "      <td>NaN</td>\n",
              "      <td>NaN</td>\n",
              "      <td>NaN</td>\n",
              "      <td>NaN</td>\n",
              "      <td>NaN</td>\n",
              "      <td>NaN</td>\n",
              "      <td>NaN</td>\n",
              "      <td>1.0</td>\n",
              "      <td>NaN</td>\n",
              "      <td>NaN</td>\n",
              "    </tr>\n",
              "  </tbody>\n",
              "</table>\n",
              "<p>1488 rows × 13 columns</p>\n",
              "</div>\n",
              "      <button class=\"colab-df-convert\" onclick=\"convertToInteractive('df-4612f7da-435d-4794-98fa-8ae852c4421b')\"\n",
              "              title=\"Convert this dataframe to an interactive table.\"\n",
              "              style=\"display:none;\">\n",
              "        \n",
              "  <svg xmlns=\"http://www.w3.org/2000/svg\" height=\"24px\"viewBox=\"0 0 24 24\"\n",
              "       width=\"24px\">\n",
              "    <path d=\"M0 0h24v24H0V0z\" fill=\"none\"/>\n",
              "    <path d=\"M18.56 5.44l.94 2.06.94-2.06 2.06-.94-2.06-.94-.94-2.06-.94 2.06-2.06.94zm-11 1L8.5 8.5l.94-2.06 2.06-.94-2.06-.94L8.5 2.5l-.94 2.06-2.06.94zm10 10l.94 2.06.94-2.06 2.06-.94-2.06-.94-.94-2.06-.94 2.06-2.06.94z\"/><path d=\"M17.41 7.96l-1.37-1.37c-.4-.4-.92-.59-1.43-.59-.52 0-1.04.2-1.43.59L10.3 9.45l-7.72 7.72c-.78.78-.78 2.05 0 2.83L4 21.41c.39.39.9.59 1.41.59.51 0 1.02-.2 1.41-.59l7.78-7.78 2.81-2.81c.8-.78.8-2.07 0-2.86zM5.41 20L4 18.59l7.72-7.72 1.47 1.35L5.41 20z\"/>\n",
              "  </svg>\n",
              "      </button>\n",
              "      \n",
              "  <style>\n",
              "    .colab-df-container {\n",
              "      display:flex;\n",
              "      flex-wrap:wrap;\n",
              "      gap: 12px;\n",
              "    }\n",
              "\n",
              "    .colab-df-convert {\n",
              "      background-color: #E8F0FE;\n",
              "      border: none;\n",
              "      border-radius: 50%;\n",
              "      cursor: pointer;\n",
              "      display: none;\n",
              "      fill: #1967D2;\n",
              "      height: 32px;\n",
              "      padding: 0 0 0 0;\n",
              "      width: 32px;\n",
              "    }\n",
              "\n",
              "    .colab-df-convert:hover {\n",
              "      background-color: #E2EBFA;\n",
              "      box-shadow: 0px 1px 2px rgba(60, 64, 67, 0.3), 0px 1px 3px 1px rgba(60, 64, 67, 0.15);\n",
              "      fill: #174EA6;\n",
              "    }\n",
              "\n",
              "    [theme=dark] .colab-df-convert {\n",
              "      background-color: #3B4455;\n",
              "      fill: #D2E3FC;\n",
              "    }\n",
              "\n",
              "    [theme=dark] .colab-df-convert:hover {\n",
              "      background-color: #434B5C;\n",
              "      box-shadow: 0px 1px 3px 1px rgba(0, 0, 0, 0.15);\n",
              "      filter: drop-shadow(0px 1px 2px rgba(0, 0, 0, 0.3));\n",
              "      fill: #FFFFFF;\n",
              "    }\n",
              "  </style>\n",
              "\n",
              "      <script>\n",
              "        const buttonEl =\n",
              "          document.querySelector('#df-4612f7da-435d-4794-98fa-8ae852c4421b button.colab-df-convert');\n",
              "        buttonEl.style.display =\n",
              "          google.colab.kernel.accessAllowed ? 'block' : 'none';\n",
              "\n",
              "        async function convertToInteractive(key) {\n",
              "          const element = document.querySelector('#df-4612f7da-435d-4794-98fa-8ae852c4421b');\n",
              "          const dataTable =\n",
              "            await google.colab.kernel.invokeFunction('convertToInteractive',\n",
              "                                                     [key], {});\n",
              "          if (!dataTable) return;\n",
              "\n",
              "          const docLinkHtml = 'Like what you see? Visit the ' +\n",
              "            '<a target=\"_blank\" href=https://colab.research.google.com/notebooks/data_table.ipynb>data table notebook</a>'\n",
              "            + ' to learn more about interactive tables.';\n",
              "          element.innerHTML = '';\n",
              "          dataTable['output_type'] = 'display_data';\n",
              "          await google.colab.output.renderOutput(dataTable, element);\n",
              "          const docLink = document.createElement('div');\n",
              "          docLink.innerHTML = docLinkHtml;\n",
              "          element.appendChild(docLink);\n",
              "        }\n",
              "      </script>\n",
              "    </div>\n",
              "  </div>\n",
              "  "
            ]
          },
          "metadata": {},
          "execution_count": 5
        }
      ]
    },
    {
      "cell_type": "code",
      "source": [
        "exp = raw.iloc[16:].rename(columns={\"Time (s) Run #10\": \"Time\", \"Angle (rad) Run #10\": \"Theta\", \"Angular Velocity (rad/s) Run #10\": \"Omega\", \"Angular Acceleration (rad/s²) Run #10\": \"OmegaDot\", \"State Run #10\": \"State\"}).filter(items=[\"Time\", \"Theta\", \"Omega\", \"OmegaDot\", \"State\"])\n",
        "exp[\"Phi\"] = 0.0\n",
        "exp[\"PoincareSet\"]= 0\n",
        "\n"
      ],
      "metadata": {
        "id": "7t5AzB4fMwaQ"
      },
      "execution_count": 11,
      "outputs": []
    },
    {
      "cell_type": "code",
      "source": [
        "gateTriggers = exp[exp[\"State\"] == 1.0].shape[0]\n",
        "minTime = exp[exp[\"State\"] == 1.0].Time.min()\n",
        "maxTime = exp[exp[\"State\"] == 1.0].Time.max()\n",
        "elapsedTime = maxTime - minTime\n",
        "avgTime = elapsedTime/(gateTriggers - 1)\n",
        "phiDot = 2. * np.pi / avgTime\n",
        "[gateTriggers, minTime, maxTime, elapsedTime, avgTime, phiDot]"
      ],
      "metadata": {
        "colab": {
          "base_uri": "https://localhost:8080/"
        },
        "id": "36-ttoSZNxPG",
        "outputId": "10d11610-4fcb-4342-ece0-ada6f213b105"
      },
      "execution_count": 12,
      "outputs": [
        {
          "output_type": "execute_result",
          "data": {
            "text/plain": [
              "[1488, 0.793, 1915.847, 1915.054, 1.28786415601883, 4.878764020114338]"
            ]
          },
          "metadata": {},
          "execution_count": 12
        }
      ]
    },
    {
      "cell_type": "code",
      "source": [
        "cycleStartTime = 0\n",
        "poincareSet = 0\n",
        "for row in exp.itertuples():\n",
        "  if row.State == 1:\n",
        "    cycleStartTime = row.Time\n",
        "    poincareSet = 0\n",
        "  elapsedTime = row.Time - cycleStartTime\n",
        "  exp.at[row.Index, \"Phi\"] = phiDot * elapsedTime\n",
        "  exp.at[row.Index, \"PoincareSet\"] = poincareSet\n",
        "  poincareSet += 1\n"
      ],
      "metadata": {
        "id": "xDXIfWvKPRzF"
      },
      "execution_count": 15,
      "outputs": []
    },
    {
      "cell_type": "code",
      "source": [
        "exp"
      ],
      "metadata": {
        "colab": {
          "base_uri": "https://localhost:8080/",
          "height": 667
        },
        "id": "kwSOtkBeRopa",
        "outputId": "f166bd38-b9f7-416d-99d2-8628ebeddb9f"
      },
      "execution_count": 25,
      "outputs": [
        {
          "output_type": "execute_result",
          "data": {
            "text/plain": [
              "           Time  Theta  Omega  OmegaDot  State       Phi  PoincareSet\n",
              "16        0.793    NaN    NaN       NaN    1.0  0.000000            0\n",
              "17        0.800 -1.763  0.698    14.738    NaN  0.034151            1\n",
              "18        0.850 -1.710  1.454    15.708    NaN  0.278090            2\n",
              "19        0.851    NaN    NaN       NaN    0.0  0.282968            3\n",
              "20        0.900 -1.623  2.269    16.678    NaN  0.522028            4\n",
              "...         ...    ...    ...       ...    ...       ...          ...\n",
              "41289  1915.900 -1.187  0.756    12.799    NaN  0.258574            2\n",
              "41290  1915.904    NaN    NaN       NaN    0.0  0.278090            3\n",
              "41291  1915.950 -1.134  1.396       NaN    NaN  0.502513            4\n",
              "41292  1916.000 -1.047  2.094       NaN    NaN  0.746451            5\n",
              "41293  1916.050 -0.925    NaN       NaN    NaN  0.990389            6\n",
              "\n",
              "[41278 rows x 7 columns]"
            ],
            "text/html": [
              "\n",
              "  <div id=\"df-347070d3-56df-49ee-a4d8-a009b624bb11\">\n",
              "    <div class=\"colab-df-container\">\n",
              "      <div>\n",
              "<style scoped>\n",
              "    .dataframe tbody tr th:only-of-type {\n",
              "        vertical-align: middle;\n",
              "    }\n",
              "\n",
              "    .dataframe tbody tr th {\n",
              "        vertical-align: top;\n",
              "    }\n",
              "\n",
              "    .dataframe thead th {\n",
              "        text-align: right;\n",
              "    }\n",
              "</style>\n",
              "<table border=\"1\" class=\"dataframe\">\n",
              "  <thead>\n",
              "    <tr style=\"text-align: right;\">\n",
              "      <th></th>\n",
              "      <th>Time</th>\n",
              "      <th>Theta</th>\n",
              "      <th>Omega</th>\n",
              "      <th>OmegaDot</th>\n",
              "      <th>State</th>\n",
              "      <th>Phi</th>\n",
              "      <th>PoincareSet</th>\n",
              "    </tr>\n",
              "  </thead>\n",
              "  <tbody>\n",
              "    <tr>\n",
              "      <th>16</th>\n",
              "      <td>0.793</td>\n",
              "      <td>NaN</td>\n",
              "      <td>NaN</td>\n",
              "      <td>NaN</td>\n",
              "      <td>1.0</td>\n",
              "      <td>0.000000</td>\n",
              "      <td>0</td>\n",
              "    </tr>\n",
              "    <tr>\n",
              "      <th>17</th>\n",
              "      <td>0.800</td>\n",
              "      <td>-1.763</td>\n",
              "      <td>0.698</td>\n",
              "      <td>14.738</td>\n",
              "      <td>NaN</td>\n",
              "      <td>0.034151</td>\n",
              "      <td>1</td>\n",
              "    </tr>\n",
              "    <tr>\n",
              "      <th>18</th>\n",
              "      <td>0.850</td>\n",
              "      <td>-1.710</td>\n",
              "      <td>1.454</td>\n",
              "      <td>15.708</td>\n",
              "      <td>NaN</td>\n",
              "      <td>0.278090</td>\n",
              "      <td>2</td>\n",
              "    </tr>\n",
              "    <tr>\n",
              "      <th>19</th>\n",
              "      <td>0.851</td>\n",
              "      <td>NaN</td>\n",
              "      <td>NaN</td>\n",
              "      <td>NaN</td>\n",
              "      <td>0.0</td>\n",
              "      <td>0.282968</td>\n",
              "      <td>3</td>\n",
              "    </tr>\n",
              "    <tr>\n",
              "      <th>20</th>\n",
              "      <td>0.900</td>\n",
              "      <td>-1.623</td>\n",
              "      <td>2.269</td>\n",
              "      <td>16.678</td>\n",
              "      <td>NaN</td>\n",
              "      <td>0.522028</td>\n",
              "      <td>4</td>\n",
              "    </tr>\n",
              "    <tr>\n",
              "      <th>...</th>\n",
              "      <td>...</td>\n",
              "      <td>...</td>\n",
              "      <td>...</td>\n",
              "      <td>...</td>\n",
              "      <td>...</td>\n",
              "      <td>...</td>\n",
              "      <td>...</td>\n",
              "    </tr>\n",
              "    <tr>\n",
              "      <th>41289</th>\n",
              "      <td>1915.900</td>\n",
              "      <td>-1.187</td>\n",
              "      <td>0.756</td>\n",
              "      <td>12.799</td>\n",
              "      <td>NaN</td>\n",
              "      <td>0.258574</td>\n",
              "      <td>2</td>\n",
              "    </tr>\n",
              "    <tr>\n",
              "      <th>41290</th>\n",
              "      <td>1915.904</td>\n",
              "      <td>NaN</td>\n",
              "      <td>NaN</td>\n",
              "      <td>NaN</td>\n",
              "      <td>0.0</td>\n",
              "      <td>0.278090</td>\n",
              "      <td>3</td>\n",
              "    </tr>\n",
              "    <tr>\n",
              "      <th>41291</th>\n",
              "      <td>1915.950</td>\n",
              "      <td>-1.134</td>\n",
              "      <td>1.396</td>\n",
              "      <td>NaN</td>\n",
              "      <td>NaN</td>\n",
              "      <td>0.502513</td>\n",
              "      <td>4</td>\n",
              "    </tr>\n",
              "    <tr>\n",
              "      <th>41292</th>\n",
              "      <td>1916.000</td>\n",
              "      <td>-1.047</td>\n",
              "      <td>2.094</td>\n",
              "      <td>NaN</td>\n",
              "      <td>NaN</td>\n",
              "      <td>0.746451</td>\n",
              "      <td>5</td>\n",
              "    </tr>\n",
              "    <tr>\n",
              "      <th>41293</th>\n",
              "      <td>1916.050</td>\n",
              "      <td>-0.925</td>\n",
              "      <td>NaN</td>\n",
              "      <td>NaN</td>\n",
              "      <td>NaN</td>\n",
              "      <td>0.990389</td>\n",
              "      <td>6</td>\n",
              "    </tr>\n",
              "  </tbody>\n",
              "</table>\n",
              "<p>41278 rows × 7 columns</p>\n",
              "</div>\n",
              "      <button class=\"colab-df-convert\" onclick=\"convertToInteractive('df-347070d3-56df-49ee-a4d8-a009b624bb11')\"\n",
              "              title=\"Convert this dataframe to an interactive table.\"\n",
              "              style=\"display:none;\">\n",
              "        \n",
              "  <svg xmlns=\"http://www.w3.org/2000/svg\" height=\"24px\"viewBox=\"0 0 24 24\"\n",
              "       width=\"24px\">\n",
              "    <path d=\"M0 0h24v24H0V0z\" fill=\"none\"/>\n",
              "    <path d=\"M18.56 5.44l.94 2.06.94-2.06 2.06-.94-2.06-.94-.94-2.06-.94 2.06-2.06.94zm-11 1L8.5 8.5l.94-2.06 2.06-.94-2.06-.94L8.5 2.5l-.94 2.06-2.06.94zm10 10l.94 2.06.94-2.06 2.06-.94-2.06-.94-.94-2.06-.94 2.06-2.06.94z\"/><path d=\"M17.41 7.96l-1.37-1.37c-.4-.4-.92-.59-1.43-.59-.52 0-1.04.2-1.43.59L10.3 9.45l-7.72 7.72c-.78.78-.78 2.05 0 2.83L4 21.41c.39.39.9.59 1.41.59.51 0 1.02-.2 1.41-.59l7.78-7.78 2.81-2.81c.8-.78.8-2.07 0-2.86zM5.41 20L4 18.59l7.72-7.72 1.47 1.35L5.41 20z\"/>\n",
              "  </svg>\n",
              "      </button>\n",
              "      \n",
              "  <style>\n",
              "    .colab-df-container {\n",
              "      display:flex;\n",
              "      flex-wrap:wrap;\n",
              "      gap: 12px;\n",
              "    }\n",
              "\n",
              "    .colab-df-convert {\n",
              "      background-color: #E8F0FE;\n",
              "      border: none;\n",
              "      border-radius: 50%;\n",
              "      cursor: pointer;\n",
              "      display: none;\n",
              "      fill: #1967D2;\n",
              "      height: 32px;\n",
              "      padding: 0 0 0 0;\n",
              "      width: 32px;\n",
              "    }\n",
              "\n",
              "    .colab-df-convert:hover {\n",
              "      background-color: #E2EBFA;\n",
              "      box-shadow: 0px 1px 2px rgba(60, 64, 67, 0.3), 0px 1px 3px 1px rgba(60, 64, 67, 0.15);\n",
              "      fill: #174EA6;\n",
              "    }\n",
              "\n",
              "    [theme=dark] .colab-df-convert {\n",
              "      background-color: #3B4455;\n",
              "      fill: #D2E3FC;\n",
              "    }\n",
              "\n",
              "    [theme=dark] .colab-df-convert:hover {\n",
              "      background-color: #434B5C;\n",
              "      box-shadow: 0px 1px 3px 1px rgba(0, 0, 0, 0.15);\n",
              "      filter: drop-shadow(0px 1px 2px rgba(0, 0, 0, 0.3));\n",
              "      fill: #FFFFFF;\n",
              "    }\n",
              "  </style>\n",
              "\n",
              "      <script>\n",
              "        const buttonEl =\n",
              "          document.querySelector('#df-347070d3-56df-49ee-a4d8-a009b624bb11 button.colab-df-convert');\n",
              "        buttonEl.style.display =\n",
              "          google.colab.kernel.accessAllowed ? 'block' : 'none';\n",
              "\n",
              "        async function convertToInteractive(key) {\n",
              "          const element = document.querySelector('#df-347070d3-56df-49ee-a4d8-a009b624bb11');\n",
              "          const dataTable =\n",
              "            await google.colab.kernel.invokeFunction('convertToInteractive',\n",
              "                                                     [key], {});\n",
              "          if (!dataTable) return;\n",
              "\n",
              "          const docLinkHtml = 'Like what you see? Visit the ' +\n",
              "            '<a target=\"_blank\" href=https://colab.research.google.com/notebooks/data_table.ipynb>data table notebook</a>'\n",
              "            + ' to learn more about interactive tables.';\n",
              "          element.innerHTML = '';\n",
              "          dataTable['output_type'] = 'display_data';\n",
              "          await google.colab.output.renderOutput(dataTable, element);\n",
              "          const docLink = document.createElement('div');\n",
              "          docLink.innerHTML = docLinkHtml;\n",
              "          element.appendChild(docLink);\n",
              "        }\n",
              "      </script>\n",
              "    </div>\n",
              "  </div>\n",
              "  "
            ]
          },
          "metadata": {},
          "execution_count": 25
        },
        {
          "output_type": "stream",
          "name": "stdout",
          "text": [
            "Warning: total number of rows (41278) exceeds max_rows (20000). Limiting to first (20000) rows.\n"
          ]
        }
      ]
    },
    {
      "cell_type": "code",
      "source": [
        "exp[exp.PoincareSet==1].plot(kind=\"scatter\", x=\"Theta\", y=\"Omega\", s=0.1)"
      ],
      "metadata": {
        "colab": {
          "base_uri": "https://localhost:8080/",
          "height": 296
        },
        "id": "qtt-iVIFQsJz",
        "outputId": "813f1527-a5f6-4cf4-b06c-17f6f52a5292"
      },
      "execution_count": 31,
      "outputs": [
        {
          "output_type": "execute_result",
          "data": {
            "text/plain": [
              "<matplotlib.axes._subplots.AxesSubplot at 0x7fb7dfced220>"
            ]
          },
          "metadata": {},
          "execution_count": 31
        },
        {
          "output_type": "display_data",
          "data": {
            "text/plain": [
              "<Figure size 432x288 with 1 Axes>"
            ],
            "image/png": "[encoded data removed]"
          },
          "metadata": {
            "needs_background": "light"
          }
        }
      ]
    },
    {
      "cell_type": "code",
      "source": [
        "exp[exp.PoincareSet==6].plot(kind=\"scatter\", x=\"Theta\", y=\"Omega\", s=0.1)"
      ],
      "metadata": {
        "colab": {
          "base_uri": "https://localhost:8080/",
          "height": 296
        },
        "id": "KizVATyORQ33",
        "outputId": "6080c005-da5d-4f4a-8fd5-4a06af8a7fa4"
      },
      "execution_count": 32,
      "outputs": [
        {
          "output_type": "execute_result",
          "data": {
            "text/plain": [
              "<matplotlib.axes._subplots.AxesSubplot at 0x7fb7e0335b80>"
            ]
          },
          "metadata": {},
          "execution_count": 32
        },
        {
          "output_type": "display_data",
          "data": {
            "text/plain": [
              "<Figure size 432x288 with 1 Axes>"
            ],
            "image/png": "[encoded data removed]"
          },
          "metadata": {
            "needs_background": "light"
          }
        }
      ]
    },
    {
      "cell_type": "code",
      "source": [
        "exp[exp.PoincareSet==11].plot(kind=\"scatter\", x=\"Theta\", y=\"Omega\", s=0.1)"
      ],
      "metadata": {
        "colab": {
          "base_uri": "https://localhost:8080/",
          "height": 296
        },
        "outputId": "5898e0cf-a071-47e2-b4c6-0de95e2b4ad4",
        "id": "s-sJt07tRY9P"
      },
      "execution_count": 33,
      "outputs": [
        {
          "output_type": "execute_result",
          "data": {
            "text/plain": [
              "<matplotlib.axes._subplots.AxesSubplot at 0x7fb7df8c9940>"
            ]
          },
          "metadata": {},
          "execution_count": 33
        },
        {
          "output_type": "display_data",
          "data": {
            "text/plain": [
              "<Figure size 432x288 with 1 Axes>"
            ],
            "image/png": "[encoded data removed]"
          },
          "metadata": {
            "needs_background": "light"
          }
        }
      ]
    },
    {
      "cell_type": "code",
      "source": [
        "exp[exp.PoincareSet==16].plot(kind=\"scatter\", x=\"Theta\", y=\"Omega\", s=0.1)"
      ],
      "metadata": {
        "colab": {
          "base_uri": "https://localhost:8080/",
          "height": 296
        },
        "outputId": "329e91f3-4da8-44a7-91c3-48a7bc4886cd",
        "id": "uS7bCF1_RZGd"
      },
      "execution_count": 34,
      "outputs": [
        {
          "output_type": "execute_result",
          "data": {
            "text/plain": [
              "<matplotlib.axes._subplots.AxesSubplot at 0x7fb7df895400>"
            ]
          },
          "metadata": {},
          "execution_count": 34
        },
        {
          "output_type": "display_data",
          "data": {
            "text/plain": [
              "<Figure size 432x288 with 1 Axes>"
            ],
            "image/png": "[encoded data removed]"
          },
          "metadata": {
            "needs_background": "light"
          }
        }
      ]
    },
    {
      "cell_type": "code",
      "source": [
        "exp[exp.PoincareSet==21].plot(kind=\"scatter\", x=\"Theta\", y=\"Omega\", s=0.1)"
      ],
      "metadata": {
        "colab": {
          "base_uri": "https://localhost:8080/",
          "height": 296
        },
        "outputId": "b2acb613-fe1b-46a7-a76b-9e7a2345a056",
        "id": "QyD5Z2O6RZQa"
      },
      "execution_count": 35,
      "outputs": [
        {
          "output_type": "execute_result",
          "data": {
            "text/plain": [
              "<matplotlib.axes._subplots.AxesSubplot at 0x7fb7df7f6490>"
            ]
          },
          "metadata": {},
          "execution_count": 35
        },
        {
          "output_type": "display_data",
          "data": {
            "text/plain": [
              "<Figure size 432x288 with 1 Axes>"
            ],
            "image/png": "[encoded data removed]"
          },
          "metadata": {
            "needs_background": "light"
          }
        }
      ]
    }
  ]
}