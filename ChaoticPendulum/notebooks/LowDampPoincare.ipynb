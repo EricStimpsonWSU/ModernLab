{
  "nbformat": 4,
  "nbformat_minor": 0,
  "metadata": {
    "colab": {
      "provenance": [],
      "authorship_tag": "ABX9TyN15HFoKWIrUO3cYxG+cJT9",
      "include_colab_link": true
    },
    "kernelspec": {
      "name": "python3",
      "display_name": "Python 3"
    },
    "language_info": {
      "name": "python"
    }
  },
  "cells": [
    {
      "cell_type": "markdown",
      "metadata": {
        "id": "view-in-github",
        "colab_type": "text"
      },
      "source": [
        "<a href=\"https://colab.research.google.com/github/EricStimpsonWSU/ModernLab/blob/main/ChaoticPendulum/notebooks/LowDampPoincare.ipynb\" target=\"_parent\"><img src=\"https://colab.research.google.com/assets/colab-badge.svg\" alt=\"Open In Colab\"/></a>"
      ]
    },
    {
      "cell_type": "code",
      "execution_count": null,
      "metadata": {
        "id": "G8tX0kSsVIR2"
      },
      "outputs": [],
      "source": [
        "#imports\n",
        "import pandas as pd\n",
        "import numpy as np"
      ]
    },
    {
      "cell_type": "code",
      "source": [
        "url = \"https://raw.githubusercontent.com/EricStimpsonWSU/ModernLab/main/ChaoticPendulum/data/chaotic_motion_lowdamp.csv\"\n",
        "raw = pd.read_csv(url)"
      ],
      "metadata": {
        "id": "qe8NjA2OeJUo"
      },
      "execution_count": null,
      "outputs": []
    },
    {
      "cell_type": "code",
      "source": [
        "raw[raw[\"State Run #11\"] == 1.0]"
      ],
      "metadata": {
        "colab": {
          "base_uri": "https://localhost:8080/",
          "height": 423
        },
        "id": "T8TwUXxXLjxe",
        "outputId": "443fd4cc-fb04-42f7-c0dd-4ba5da82334b"
      },
      "execution_count": null,
      "outputs": [
        {
          "output_type": "execute_result",
          "data": {
            "text/plain": [
              "        Date and Time Run #11  Time (s) Run #11  \\\n",
              "25     01/27/2023 03:04:45 pm             1.214   \n",
              "52     01/27/2023 03:04:46 pm             2.475   \n",
              "79     01/27/2023 03:04:47 pm             3.743   \n",
              "107    01/27/2023 03:04:49 pm             5.004   \n",
              "134    01/27/2023 03:04:50 pm             6.294   \n",
              "...                       ...               ...   \n",
              "38727  01/27/2023 03:34:41 pm          1797.219   \n",
              "38754  01/27/2023 03:34:42 pm          1798.499   \n",
              "38782  01/27/2023 03:34:43 pm          1799.781   \n",
              "38810  01/27/2023 03:34:45 pm          1801.075   \n",
              "38838  01/27/2023 03:34:46 pm          1802.362   \n",
              "\n",
              "       Counts/sample (counts/sample) Run #11  Angle (rad) Run #11  \\\n",
              "25                                       NaN                  NaN   \n",
              "52                                       NaN                  NaN   \n",
              "79                                       NaN                  NaN   \n",
              "107                                      NaN                  NaN   \n",
              "134                                      NaN                  NaN   \n",
              "...                                      ...                  ...   \n",
              "38727                                    NaN                  NaN   \n",
              "38754                                    NaN                  NaN   \n",
              "38782                                    NaN                  NaN   \n",
              "38810                                    NaN                  NaN   \n",
              "38838                                    NaN                  NaN   \n",
              "\n",
              "       Angular Velocity (rad/s) Run #11  \\\n",
              "25                                  NaN   \n",
              "52                                  NaN   \n",
              "79                                  NaN   \n",
              "107                                 NaN   \n",
              "134                                 NaN   \n",
              "...                                 ...   \n",
              "38727                               NaN   \n",
              "38754                               NaN   \n",
              "38782                               NaN   \n",
              "38810                               NaN   \n",
              "38838                               NaN   \n",
              "\n",
              "       Angular Acceleration (rad/s²) Run #11  Position (m) Run #11  \\\n",
              "25                                       NaN                   NaN   \n",
              "52                                       NaN                   NaN   \n",
              "79                                       NaN                   NaN   \n",
              "107                                      NaN                   NaN   \n",
              "134                                      NaN                   NaN   \n",
              "...                                      ...                   ...   \n",
              "38727                                    NaN                   NaN   \n",
              "38754                                    NaN                   NaN   \n",
              "38782                                    NaN                   NaN   \n",
              "38810                                    NaN                   NaN   \n",
              "38838                                    NaN                   NaN   \n",
              "\n",
              "       Velocity (m/s) Run #11  Acceleration (m/s²) Run #11  Counts Run #11  \\\n",
              "25                        NaN                          NaN             NaN   \n",
              "52                        NaN                          NaN             NaN   \n",
              "79                        NaN                          NaN             NaN   \n",
              "107                       NaN                          NaN             NaN   \n",
              "134                       NaN                          NaN             NaN   \n",
              "...                       ...                          ...             ...   \n",
              "38727                     NaN                          NaN             NaN   \n",
              "38754                     NaN                          NaN             NaN   \n",
              "38782                     NaN                          NaN             NaN   \n",
              "38810                     NaN                          NaN             NaN   \n",
              "38838                     NaN                          NaN             NaN   \n",
              "\n",
              "       State Run #11  Time in Gate (s) Run #11  Speed (m/s) Run #11  \n",
              "25               1.0                       NaN                  NaN  \n",
              "52               1.0                       NaN                  NaN  \n",
              "79               1.0                       NaN                  NaN  \n",
              "107              1.0                       NaN                  NaN  \n",
              "134              1.0                       NaN                  NaN  \n",
              "...              ...                       ...                  ...  \n",
              "38727            1.0                       NaN                  NaN  \n",
              "38754            1.0                       NaN                  NaN  \n",
              "38782            1.0                       NaN                  NaN  \n",
              "38810            1.0                       NaN                  NaN  \n",
              "38838            1.0                       NaN                  NaN  \n",
              "\n",
              "[1398 rows x 13 columns]"
            ],
            "text/html": [
              "\n",
              "  <div id=\"df-ebb468b0-4ccc-404e-b089-93760dc23161\">\n",
              "    <div class=\"colab-df-container\">\n",
              "      <div>\n",
              "<style scoped>\n",
              "    .dataframe tbody tr th:only-of-type {\n",
              "        vertical-align: middle;\n",
              "    }\n",
              "\n",
              "    .dataframe tbody tr th {\n",
              "        vertical-align: top;\n",
              "    }\n",
              "\n",
              "    .dataframe thead th {\n",
              "        text-align: right;\n",
              "    }\n",
              "</style>\n",
              "<table border=\"1\" class=\"dataframe\">\n",
              "  <thead>\n",
              "    <tr style=\"text-align: right;\">\n",
              "      <th></th>\n",
              "      <th>Date and Time Run #11</th>\n",
              "      <th>Time (s) Run #11</th>\n",
              "      <th>Counts/sample (counts/sample) Run #11</th>\n",
              "      <th>Angle (rad) Run #11</th>\n",
              "      <th>Angular Velocity (rad/s) Run #11</th>\n",
              "      <th>Angular Acceleration (rad/s²) Run #11</th>\n",
              "      <th>Position (m) Run #11</th>\n",
              "      <th>Velocity (m/s) Run #11</th>\n",
              "      <th>Acceleration (m/s²) Run #11</th>\n",
              "      <th>Counts Run #11</th>\n",
              "      <th>State Run #11</th>\n",
              "      <th>Time in Gate (s) Run #11</th>\n",
              "      <th>Speed (m/s) Run #11</th>\n",
              "    </tr>\n",
              "  </thead>\n",
              "  <tbody>\n",
              "    <tr>\n",
              "      <th>25</th>\n",
              "      <td>01/27/2023 03:04:45 pm</td>\n",
              "      <td>1.214</td>\n",
              "      <td>NaN</td>\n",
              "      <td>NaN</td>\n",
              "      <td>NaN</td>\n",
              "      <td>NaN</td>\n",
              "      <td>NaN</td>\n",
              "      <td>NaN</td>\n",
              "      <td>NaN</td>\n",
              "      <td>NaN</td>\n",
              "      <td>1.0</td>\n",
              "      <td>NaN</td>\n",
              "      <td>NaN</td>\n",
              "    </tr>\n",
              "    <tr>\n",
              "      <th>52</th>\n",
              "      <td>01/27/2023 03:04:46 pm</td>\n",
              "      <td>2.475</td>\n",
              "      <td>NaN</td>\n",
              "      <td>NaN</td>\n",
              "      <td>NaN</td>\n",
              "      <td>NaN</td>\n",
              "      <td>NaN</td>\n",
              "      <td>NaN</td>\n",
              "      <td>NaN</td>\n",
              "      <td>NaN</td>\n",
              "      <td>1.0</td>\n",
              "      <td>NaN</td>\n",
              "      <td>NaN</td>\n",
              "    </tr>\n",
              "    <tr>\n",
              "      <th>79</th>\n",
              "      <td>01/27/2023 03:04:47 pm</td>\n",
              "      <td>3.743</td>\n",
              "      <td>NaN</td>\n",
              "      <td>NaN</td>\n",
              "      <td>NaN</td>\n",
              "      <td>NaN</td>\n",
              "      <td>NaN</td>\n",
              "      <td>NaN</td>\n",
              "      <td>NaN</td>\n",
              "      <td>NaN</td>\n",
              "      <td>1.0</td>\n",
              "      <td>NaN</td>\n",
              "      <td>NaN</td>\n",
              "    </tr>\n",
              "    <tr>\n",
              "      <th>107</th>\n",
              "      <td>01/27/2023 03:04:49 pm</td>\n",
              "      <td>5.004</td>\n",
              "      <td>NaN</td>\n",
              "      <td>NaN</td>\n",
              "      <td>NaN</td>\n",
              "      <td>NaN</td>\n",
              "      <td>NaN</td>\n",
              "      <td>NaN</td>\n",
              "      <td>NaN</td>\n",
              "      <td>NaN</td>\n",
              "      <td>1.0</td>\n",
              "      <td>NaN</td>\n",
              "      <td>NaN</td>\n",
              "    </tr>\n",
              "    <tr>\n",
              "      <th>134</th>\n",
              "      <td>01/27/2023 03:04:50 pm</td>\n",
              "      <td>6.294</td>\n",
              "      <td>NaN</td>\n",
              "      <td>NaN</td>\n",
              "      <td>NaN</td>\n",
              "      <td>NaN</td>\n",
              "      <td>NaN</td>\n",
              "      <td>NaN</td>\n",
              "      <td>NaN</td>\n",
              "      <td>NaN</td>\n",
              "      <td>1.0</td>\n",
              "      <td>NaN</td>\n",
              "      <td>NaN</td>\n",
              "    </tr>\n",
              "    <tr>\n",
              "      <th>...</th>\n",
              "      <td>...</td>\n",
              "      <td>...</td>\n",
              "      <td>...</td>\n",
              "      <td>...</td>\n",
              "      <td>...</td>\n",
              "      <td>...</td>\n",
              "      <td>...</td>\n",
              "      <td>...</td>\n",
              "      <td>...</td>\n",
              "      <td>...</td>\n",
              "      <td>...</td>\n",
              "      <td>...</td>\n",
              "      <td>...</td>\n",
              "    </tr>\n",
              "    <tr>\n",
              "      <th>38727</th>\n",
              "      <td>01/27/2023 03:34:41 pm</td>\n",
              "      <td>1797.219</td>\n",
              "      <td>NaN</td>\n",
              "      <td>NaN</td>\n",
              "      <td>NaN</td>\n",
              "      <td>NaN</td>\n",
              "      <td>NaN</td>\n",
              "      <td>NaN</td>\n",
              "      <td>NaN</td>\n",
              "      <td>NaN</td>\n",
              "      <td>1.0</td>\n",
              "      <td>NaN</td>\n",
              "      <td>NaN</td>\n",
              "    </tr>\n",
              "    <tr>\n",
              "      <th>38754</th>\n",
              "      <td>01/27/2023 03:34:42 pm</td>\n",
              "      <td>1798.499</td>\n",
              "      <td>NaN</td>\n",
              "      <td>NaN</td>\n",
              "      <td>NaN</td>\n",
              "      <td>NaN</td>\n",
              "      <td>NaN</td>\n",
              "      <td>NaN</td>\n",
              "      <td>NaN</td>\n",
              "      <td>NaN</td>\n",
              "      <td>1.0</td>\n",
              "      <td>NaN</td>\n",
              "      <td>NaN</td>\n",
              "    </tr>\n",
              "    <tr>\n",
              "      <th>38782</th>\n",
              "      <td>01/27/2023 03:34:43 pm</td>\n",
              "      <td>1799.781</td>\n",
              "      <td>NaN</td>\n",
              "      <td>NaN</td>\n",
              "      <td>NaN</td>\n",
              "      <td>NaN</td>\n",
              "      <td>NaN</td>\n",
              "      <td>NaN</td>\n",
              "      <td>NaN</td>\n",
              "      <td>NaN</td>\n",
              "      <td>1.0</td>\n",
              "      <td>NaN</td>\n",
              "      <td>NaN</td>\n",
              "    </tr>\n",
              "    <tr>\n",
              "      <th>38810</th>\n",
              "      <td>01/27/2023 03:34:45 pm</td>\n",
              "      <td>1801.075</td>\n",
              "      <td>NaN</td>\n",
              "      <td>NaN</td>\n",
              "      <td>NaN</td>\n",
              "      <td>NaN</td>\n",
              "      <td>NaN</td>\n",
              "      <td>NaN</td>\n",
              "      <td>NaN</td>\n",
              "      <td>NaN</td>\n",
              "      <td>1.0</td>\n",
              "      <td>NaN</td>\n",
              "      <td>NaN</td>\n",
              "    </tr>\n",
              "    <tr>\n",
              "      <th>38838</th>\n",
              "      <td>01/27/2023 03:34:46 pm</td>\n",
              "      <td>1802.362</td>\n",
              "      <td>NaN</td>\n",
              "      <td>NaN</td>\n",
              "      <td>NaN</td>\n",
              "      <td>NaN</td>\n",
              "      <td>NaN</td>\n",
              "      <td>NaN</td>\n",
              "      <td>NaN</td>\n",
              "      <td>NaN</td>\n",
              "      <td>1.0</td>\n",
              "      <td>NaN</td>\n",
              "      <td>NaN</td>\n",
              "    </tr>\n",
              "  </tbody>\n",
              "</table>\n",
              "<p>1398 rows × 13 columns</p>\n",
              "</div>\n",
              "      <button class=\"colab-df-convert\" onclick=\"convertToInteractive('df-ebb468b0-4ccc-404e-b089-93760dc23161')\"\n",
              "              title=\"Convert this dataframe to an interactive table.\"\n",
              "              style=\"display:none;\">\n",
              "        \n",
              "  <svg xmlns=\"http://www.w3.org/2000/svg\" height=\"24px\"viewBox=\"0 0 24 24\"\n",
              "       width=\"24px\">\n",
              "    <path d=\"M0 0h24v24H0V0z\" fill=\"none\"/>\n",
              "    <path d=\"M18.56 5.44l.94 2.06.94-2.06 2.06-.94-2.06-.94-.94-2.06-.94 2.06-2.06.94zm-11 1L8.5 8.5l.94-2.06 2.06-.94-2.06-.94L8.5 2.5l-.94 2.06-2.06.94zm10 10l.94 2.06.94-2.06 2.06-.94-2.06-.94-.94-2.06-.94 2.06-2.06.94z\"/><path d=\"M17.41 7.96l-1.37-1.37c-.4-.4-.92-.59-1.43-.59-.52 0-1.04.2-1.43.59L10.3 9.45l-7.72 7.72c-.78.78-.78 2.05 0 2.83L4 21.41c.39.39.9.59 1.41.59.51 0 1.02-.2 1.41-.59l7.78-7.78 2.81-2.81c.8-.78.8-2.07 0-2.86zM5.41 20L4 18.59l7.72-7.72 1.47 1.35L5.41 20z\"/>\n",
              "  </svg>\n",
              "      </button>\n",
              "      \n",
              "  <style>\n",
              "    .colab-df-container {\n",
              "      display:flex;\n",
              "      flex-wrap:wrap;\n",
              "      gap: 12px;\n",
              "    }\n",
              "\n",
              "    .colab-df-convert {\n",
              "      background-color: #E8F0FE;\n",
              "      border: none;\n",
              "      border-radius: 50%;\n",
              "      cursor: pointer;\n",
              "      display: none;\n",
              "      fill: #1967D2;\n",
              "      height: 32px;\n",
              "      padding: 0 0 0 0;\n",
              "      width: 32px;\n",
              "    }\n",
              "\n",
              "    .colab-df-convert:hover {\n",
              "      background-color: #E2EBFA;\n",
              "      box-shadow: 0px 1px 2px rgba(60, 64, 67, 0.3), 0px 1px 3px 1px rgba(60, 64, 67, 0.15);\n",
              "      fill: #174EA6;\n",
              "    }\n",
              "\n",
              "    [theme=dark] .colab-df-convert {\n",
              "      background-color: #3B4455;\n",
              "      fill: #D2E3FC;\n",
              "    }\n",
              "\n",
              "    [theme=dark] .colab-df-convert:hover {\n",
              "      background-color: #434B5C;\n",
              "      box-shadow: 0px 1px 3px 1px rgba(0, 0, 0, 0.15);\n",
              "      filter: drop-shadow(0px 1px 2px rgba(0, 0, 0, 0.3));\n",
              "      fill: #FFFFFF;\n",
              "    }\n",
              "  </style>\n",
              "\n",
              "      <script>\n",
              "        const buttonEl =\n",
              "          document.querySelector('#df-ebb468b0-4ccc-404e-b089-93760dc23161 button.colab-df-convert');\n",
              "        buttonEl.style.display =\n",
              "          google.colab.kernel.accessAllowed ? 'block' : 'none';\n",
              "\n",
              "        async function convertToInteractive(key) {\n",
              "          const element = document.querySelector('#df-ebb468b0-4ccc-404e-b089-93760dc23161');\n",
              "          const dataTable =\n",
              "            await google.colab.kernel.invokeFunction('convertToInteractive',\n",
              "                                                     [key], {});\n",
              "          if (!dataTable) return;\n",
              "\n",
              "          const docLinkHtml = 'Like what you see? Visit the ' +\n",
              "            '<a target=\"_blank\" href=https://colab.research.google.com/notebooks/data_table.ipynb>data table notebook</a>'\n",
              "            + ' to learn more about interactive tables.';\n",
              "          element.innerHTML = '';\n",
              "          dataTable['output_type'] = 'display_data';\n",
              "          await google.colab.output.renderOutput(dataTable, element);\n",
              "          const docLink = document.createElement('div');\n",
              "          docLink.innerHTML = docLinkHtml;\n",
              "          element.appendChild(docLink);\n",
              "        }\n",
              "      </script>\n",
              "    </div>\n",
              "  </div>\n",
              "  "
            ]
          },
          "metadata": {},
          "execution_count": 6
        }
      ]
    },
    {
      "cell_type": "code",
      "source": [
        "exp = raw.iloc[16:].rename(columns={\"Time (s) Run #11\": \"Time\", \"Angle (rad) Run #11\": \"Theta\", \"Angular Velocity (rad/s) Run #11\": \"Omega\", \"Angular Acceleration (rad/s²) Run #11\": \"OmegaDot\", \"State Run #11\": \"State\"}).filter(items=[\"Time\", \"Theta\", \"Omega\", \"OmegaDot\", \"State\"])\n",
        "exp[\"Phi\"] = 0.0\n",
        "exp[\"PoincareSet\"]= 0\n",
        "\n"
      ],
      "metadata": {
        "id": "7t5AzB4fMwaQ"
      },
      "execution_count": null,
      "outputs": []
    },
    {
      "cell_type": "code",
      "source": [
        "gateTriggers = exp[exp[\"State\"] == 1.0].shape[0]\n",
        "minTime = exp[exp[\"State\"] == 1.0].Time.min()\n",
        "maxTime = exp[exp[\"State\"] == 1.0].Time.max()\n",
        "elapsedTime = maxTime - minTime\n",
        "avgTime = elapsedTime/(gateTriggers - 1)\n",
        "phiDot = 2. * np.pi / avgTime\n",
        "[gateTriggers, minTime, maxTime, elapsedTime, avgTime, phiDot]"
      ],
      "metadata": {
        "colab": {
          "base_uri": "https://localhost:8080/"
        },
        "id": "36-ttoSZNxPG",
        "outputId": "cfaf9430-6911-43b5-b8c1-be0c8b01baa3"
      },
      "execution_count": null,
      "outputs": [
        {
          "output_type": "execute_result",
          "data": {
            "text/plain": [
              "[1398,\n",
              " 1.214,\n",
              " 1802.362,\n",
              " 1801.1480000000001,\n",
              " 1.289297065139585,\n",
              " 4.873341820955236]"
            ]
          },
          "metadata": {},
          "execution_count": 8
        }
      ]
    },
    {
      "cell_type": "code",
      "source": [
        "cycleStartTime = 0\n",
        "poincareSet = 0\n",
        "for row in exp.itertuples():\n",
        "  if row.State == 1:\n",
        "    cycleStartTime = row.Time\n",
        "    poincareSet = 0\n",
        "  elapsedTime = row.Time - cycleStartTime\n",
        "  exp.at[row.Index, \"Phi\"] = phiDot * elapsedTime\n",
        "  exp.at[row.Index, \"PoincareSet\"] = poincareSet\n",
        "  poincareSet += 1\n"
      ],
      "metadata": {
        "id": "xDXIfWvKPRzF"
      },
      "execution_count": null,
      "outputs": []
    },
    {
      "cell_type": "code",
      "source": [
        "exp"
      ],
      "metadata": {
        "colab": {
          "base_uri": "https://localhost:8080/",
          "height": 423
        },
        "id": "kwSOtkBeRopa",
        "outputId": "60074e58-e34a-455c-f772-a652a3e080e9"
      },
      "execution_count": null,
      "outputs": [
        {
          "output_type": "execute_result",
          "data": {
            "text/plain": [
              "          Time  Theta  Omega  OmegaDot  State       Phi  PoincareSet\n",
              "16        0.80  3.787  5.818     3.297    NaN  3.898673            0\n",
              "17        0.85  4.084  6.050     2.327    NaN  4.142341            1\n",
              "18        0.90  4.398  6.167    -1.357    NaN  4.386008            2\n",
              "19        0.95  4.712  5.992    -7.369    NaN  4.629675            3\n",
              "20        1.00  5.009  5.469   -14.544    NaN  4.873342            4\n",
              "...        ...    ...    ...       ...    ...       ...          ...\n",
              "38846  1802.70  4.433  6.050    16.290    NaN  1.647190            8\n",
              "38847  1802.75  4.765  6.807     9.890    NaN  1.890857            9\n",
              "38848  1802.80  5.131  7.098       NaN    NaN  2.134524           10\n",
              "38849  1802.85  5.498  6.981       NaN    NaN  2.378191           11\n",
              "38850  1802.90  5.829    NaN       NaN    NaN  2.621858           12\n",
              "\n",
              "[38835 rows x 7 columns]"
            ],
            "text/html": [
              "\n",
              "  <div id=\"df-5638c3bb-38cb-42f0-b205-be5d03be697c\">\n",
              "    <div class=\"colab-df-container\">\n",
              "      <div>\n",
              "<style scoped>\n",
              "    .dataframe tbody tr th:only-of-type {\n",
              "        vertical-align: middle;\n",
              "    }\n",
              "\n",
              "    .dataframe tbody tr th {\n",
              "        vertical-align: top;\n",
              "    }\n",
              "\n",
              "    .dataframe thead th {\n",
              "        text-align: right;\n",
              "    }\n",
              "</style>\n",
              "<table border=\"1\" class=\"dataframe\">\n",
              "  <thead>\n",
              "    <tr style=\"text-align: right;\">\n",
              "      <th></th>\n",
              "      <th>Time</th>\n",
              "      <th>Theta</th>\n",
              "      <th>Omega</th>\n",
              "      <th>OmegaDot</th>\n",
              "      <th>State</th>\n",
              "      <th>Phi</th>\n",
              "      <th>PoincareSet</th>\n",
              "    </tr>\n",
              "  </thead>\n",
              "  <tbody>\n",
              "    <tr>\n",
              "      <th>16</th>\n",
              "      <td>0.80</td>\n",
              "      <td>3.787</td>\n",
              "      <td>5.818</td>\n",
              "      <td>3.297</td>\n",
              "      <td>NaN</td>\n",
              "      <td>3.898673</td>\n",
              "      <td>0</td>\n",
              "    </tr>\n",
              "    <tr>\n",
              "      <th>17</th>\n",
              "      <td>0.85</td>\n",
              "      <td>4.084</td>\n",
              "      <td>6.050</td>\n",
              "      <td>2.327</td>\n",
              "      <td>NaN</td>\n",
              "      <td>4.142341</td>\n",
              "      <td>1</td>\n",
              "    </tr>\n",
              "    <tr>\n",
              "      <th>18</th>\n",
              "      <td>0.90</td>\n",
              "      <td>4.398</td>\n",
              "      <td>6.167</td>\n",
              "      <td>-1.357</td>\n",
              "      <td>NaN</td>\n",
              "      <td>4.386008</td>\n",
              "      <td>2</td>\n",
              "    </tr>\n",
              "    <tr>\n",
              "      <th>19</th>\n",
              "      <td>0.95</td>\n",
              "      <td>4.712</td>\n",
              "      <td>5.992</td>\n",
              "      <td>-7.369</td>\n",
              "      <td>NaN</td>\n",
              "      <td>4.629675</td>\n",
              "      <td>3</td>\n",
              "    </tr>\n",
              "    <tr>\n",
              "      <th>20</th>\n",
              "      <td>1.00</td>\n",
              "      <td>5.009</td>\n",
              "      <td>5.469</td>\n",
              "      <td>-14.544</td>\n",
              "      <td>NaN</td>\n",
              "      <td>4.873342</td>\n",
              "      <td>4</td>\n",
              "    </tr>\n",
              "    <tr>\n",
              "      <th>...</th>\n",
              "      <td>...</td>\n",
              "      <td>...</td>\n",
              "      <td>...</td>\n",
              "      <td>...</td>\n",
              "      <td>...</td>\n",
              "      <td>...</td>\n",
              "      <td>...</td>\n",
              "    </tr>\n",
              "    <tr>\n",
              "      <th>38846</th>\n",
              "      <td>1802.70</td>\n",
              "      <td>4.433</td>\n",
              "      <td>6.050</td>\n",
              "      <td>16.290</td>\n",
              "      <td>NaN</td>\n",
              "      <td>1.647190</td>\n",
              "      <td>8</td>\n",
              "    </tr>\n",
              "    <tr>\n",
              "      <th>38847</th>\n",
              "      <td>1802.75</td>\n",
              "      <td>4.765</td>\n",
              "      <td>6.807</td>\n",
              "      <td>9.890</td>\n",
              "      <td>NaN</td>\n",
              "      <td>1.890857</td>\n",
              "      <td>9</td>\n",
              "    </tr>\n",
              "    <tr>\n",
              "      <th>38848</th>\n",
              "      <td>1802.80</td>\n",
              "      <td>5.131</td>\n",
              "      <td>7.098</td>\n",
              "      <td>NaN</td>\n",
              "      <td>NaN</td>\n",
              "      <td>2.134524</td>\n",
              "      <td>10</td>\n",
              "    </tr>\n",
              "    <tr>\n",
              "      <th>38849</th>\n",
              "      <td>1802.85</td>\n",
              "      <td>5.498</td>\n",
              "      <td>6.981</td>\n",
              "      <td>NaN</td>\n",
              "      <td>NaN</td>\n",
              "      <td>2.378191</td>\n",
              "      <td>11</td>\n",
              "    </tr>\n",
              "    <tr>\n",
              "      <th>38850</th>\n",
              "      <td>1802.90</td>\n",
              "      <td>5.829</td>\n",
              "      <td>NaN</td>\n",
              "      <td>NaN</td>\n",
              "      <td>NaN</td>\n",
              "      <td>2.621858</td>\n",
              "      <td>12</td>\n",
              "    </tr>\n",
              "  </tbody>\n",
              "</table>\n",
              "<p>38835 rows × 7 columns</p>\n",
              "</div>\n",
              "      <button class=\"colab-df-convert\" onclick=\"convertToInteractive('df-5638c3bb-38cb-42f0-b205-be5d03be697c')\"\n",
              "              title=\"Convert this dataframe to an interactive table.\"\n",
              "              style=\"display:none;\">\n",
              "        \n",
              "  <svg xmlns=\"http://www.w3.org/2000/svg\" height=\"24px\"viewBox=\"0 0 24 24\"\n",
              "       width=\"24px\">\n",
              "    <path d=\"M0 0h24v24H0V0z\" fill=\"none\"/>\n",
              "    <path d=\"M18.56 5.44l.94 2.06.94-2.06 2.06-.94-2.06-.94-.94-2.06-.94 2.06-2.06.94zm-11 1L8.5 8.5l.94-2.06 2.06-.94-2.06-.94L8.5 2.5l-.94 2.06-2.06.94zm10 10l.94 2.06.94-2.06 2.06-.94-2.06-.94-.94-2.06-.94 2.06-2.06.94z\"/><path d=\"M17.41 7.96l-1.37-1.37c-.4-.4-.92-.59-1.43-.59-.52 0-1.04.2-1.43.59L10.3 9.45l-7.72 7.72c-.78.78-.78 2.05 0 2.83L4 21.41c.39.39.9.59 1.41.59.51 0 1.02-.2 1.41-.59l7.78-7.78 2.81-2.81c.8-.78.8-2.07 0-2.86zM5.41 20L4 18.59l7.72-7.72 1.47 1.35L5.41 20z\"/>\n",
              "  </svg>\n",
              "      </button>\n",
              "      \n",
              "  <style>\n",
              "    .colab-df-container {\n",
              "      display:flex;\n",
              "      flex-wrap:wrap;\n",
              "      gap: 12px;\n",
              "    }\n",
              "\n",
              "    .colab-df-convert {\n",
              "      background-color: #E8F0FE;\n",
              "      border: none;\n",
              "      border-radius: 50%;\n",
              "      cursor: pointer;\n",
              "      display: none;\n",
              "      fill: #1967D2;\n",
              "      height: 32px;\n",
              "      padding: 0 0 0 0;\n",
              "      width: 32px;\n",
              "    }\n",
              "\n",
              "    .colab-df-convert:hover {\n",
              "      background-color: #E2EBFA;\n",
              "      box-shadow: 0px 1px 2px rgba(60, 64, 67, 0.3), 0px 1px 3px 1px rgba(60, 64, 67, 0.15);\n",
              "      fill: #174EA6;\n",
              "    }\n",
              "\n",
              "    [theme=dark] .colab-df-convert {\n",
              "      background-color: #3B4455;\n",
              "      fill: #D2E3FC;\n",
              "    }\n",
              "\n",
              "    [theme=dark] .colab-df-convert:hover {\n",
              "      background-color: #434B5C;\n",
              "      box-shadow: 0px 1px 3px 1px rgba(0, 0, 0, 0.15);\n",
              "      filter: drop-shadow(0px 1px 2px rgba(0, 0, 0, 0.3));\n",
              "      fill: #FFFFFF;\n",
              "    }\n",
              "  </style>\n",
              "\n",
              "      <script>\n",
              "        const buttonEl =\n",
              "          document.querySelector('#df-5638c3bb-38cb-42f0-b205-be5d03be697c button.colab-df-convert');\n",
              "        buttonEl.style.display =\n",
              "          google.colab.kernel.accessAllowed ? 'block' : 'none';\n",
              "\n",
              "        async function convertToInteractive(key) {\n",
              "          const element = document.querySelector('#df-5638c3bb-38cb-42f0-b205-be5d03be697c');\n",
              "          const dataTable =\n",
              "            await google.colab.kernel.invokeFunction('convertToInteractive',\n",
              "                                                     [key], {});\n",
              "          if (!dataTable) return;\n",
              "\n",
              "          const docLinkHtml = 'Like what you see? Visit the ' +\n",
              "            '<a target=\"_blank\" href=https://colab.research.google.com/notebooks/data_table.ipynb>data table notebook</a>'\n",
              "            + ' to learn more about interactive tables.';\n",
              "          element.innerHTML = '';\n",
              "          dataTable['output_type'] = 'display_data';\n",
              "          await google.colab.output.renderOutput(dataTable, element);\n",
              "          const docLink = document.createElement('div');\n",
              "          docLink.innerHTML = docLinkHtml;\n",
              "          element.appendChild(docLink);\n",
              "        }\n",
              "      </script>\n",
              "    </div>\n",
              "  </div>\n",
              "  "
            ]
          },
          "metadata": {},
          "execution_count": 10
        }
      ]
    },
    {
      "cell_type": "code",
      "source": [
        "exp[exp.PoincareSet==1].plot(kind=\"scatter\", x=\"Theta\", y=\"Omega\", s=0.1)"
      ],
      "metadata": {
        "colab": {
          "base_uri": "https://localhost:8080/",
          "height": 296
        },
        "id": "qtt-iVIFQsJz",
        "outputId": "4bb1f0e4-144d-4e7c-a7ea-794eb586b974"
      },
      "execution_count": null,
      "outputs": [
        {
          "output_type": "execute_result",
          "data": {
            "text/plain": [
              "<matplotlib.axes._subplots.AxesSubplot at 0x7ff82c6350d0>"
            ]
          },
          "metadata": {},
          "execution_count": 11
        },
        {
          "output_type": "display_data",
          "data": {
            "text/plain": [
              "<Figure size 432x288 with 1 Axes>"
            ],
            "image/png": "[encoded data removed]"
          },
          "metadata": {
            "needs_background": "light"
          }
        }
      ]
    },
    {
      "cell_type": "code",
      "source": [
        "exp[exp.PoincareSet==6].plot(kind=\"scatter\", x=\"Theta\", y=\"Omega\", s=0.1)"
      ],
      "metadata": {
        "colab": {
          "base_uri": "https://localhost:8080/",
          "height": 296
        },
        "id": "KizVATyORQ33",
        "outputId": "881a42de-c051-434f-f68b-adff73c947f9"
      },
      "execution_count": null,
      "outputs": [
        {
          "output_type": "execute_result",
          "data": {
            "text/plain": [
              "<matplotlib.axes._subplots.AxesSubplot at 0x7ff82c576280>"
            ]
          },
          "metadata": {},
          "execution_count": 12
        },
        {
          "output_type": "display_data",
          "data": {
            "text/plain": [
              "<Figure size 432x288 with 1 Axes>"
            ],
            "image/png": "[encoded data removed]"
          },
          "metadata": {
            "needs_background": "light"
          }
        }
      ]
    },
    {
      "cell_type": "code",
      "source": [
        "exp[exp.PoincareSet==11].plot(kind=\"scatter\", x=\"Theta\", y=\"Omega\", s=0.1)"
      ],
      "metadata": {
        "colab": {
          "base_uri": "https://localhost:8080/",
          "height": 296
        },
        "outputId": "0446bd92-ce47-49df-f6f9-fd4436308044",
        "id": "s-sJt07tRY9P"
      },
      "execution_count": null,
      "outputs": [
        {
          "output_type": "execute_result",
          "data": {
            "text/plain": [
              "<matplotlib.axes._subplots.AxesSubplot at 0x7ff82c09b970>"
            ]
          },
          "metadata": {},
          "execution_count": 13
        },
        {
          "output_type": "display_data",
          "data": {
            "text/plain": [
              "<Figure size 432x288 with 1 Axes>"
            ],
            "image/png": "[encoded data removed]"
          },
          "metadata": {
            "needs_background": "light"
          }
        }
      ]
    },
    {
      "cell_type": "code",
      "source": [
        "exp[exp.PoincareSet==16].plot(kind=\"scatter\", x=\"Theta\", y=\"Omega\", s=0.1)"
      ],
      "metadata": {
        "colab": {
          "base_uri": "https://localhost:8080/",
          "height": 296
        },
        "outputId": "6597676d-fadc-4b90-d9f2-b7b4bc302397",
        "id": "uS7bCF1_RZGd"
      },
      "execution_count": null,
      "outputs": [
        {
          "output_type": "execute_result",
          "data": {
            "text/plain": [
              "<matplotlib.axes._subplots.AxesSubplot at 0x7ff82c06c100>"
            ]
          },
          "metadata": {},
          "execution_count": 14
        },
        {
          "output_type": "display_data",
          "data": {
            "text/plain": [
              "<Figure size 432x288 with 1 Axes>"
            ],
            "image/png": "[encoded data removed]"
          },
          "metadata": {
            "needs_background": "light"
          }
        }
      ]
    },
    {
      "cell_type": "code",
      "source": [
        "exp[exp.PoincareSet==21].plot(kind=\"scatter\", x=\"Theta\", y=\"Omega\", s=0.1)"
      ],
      "metadata": {
        "colab": {
          "base_uri": "https://localhost:8080/",
          "height": 296
        },
        "outputId": "57a568c6-edc4-4301-fdb3-6ac64fc2c579",
        "id": "QyD5Z2O6RZQa"
      },
      "execution_count": null,
      "outputs": [
        {
          "output_type": "execute_result",
          "data": {
            "text/plain": [
              "<matplotlib.axes._subplots.AxesSubplot at 0x7ff82c046400>"
            ]
          },
          "metadata": {},
          "execution_count": 15
        },
        {
          "output_type": "display_data",
          "data": {
            "text/plain": [
              "<Figure size 432x288 with 1 Axes>"
            ],
            "image/png": "[encoded data removed]"
          },
          "metadata": {
            "needs_background": "light"
          }
        }
      ]
    }
  ]
}